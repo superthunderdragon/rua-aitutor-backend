{
 "cells": [
  {
   "cell_type": "markdown",
   "metadata": {},
   "source": [
    "# **한글 코딩 정보 벡터 DB화**"
   ]
  },
  {
   "cell_type": "markdown",
   "metadata": {},
   "source": [
    "## 필요 패키지 다운로드"
   ]
  },
  {
   "cell_type": "code",
   "execution_count": 1,
   "metadata": {},
   "outputs": [
    {
     "name": "stdout",
     "output_type": "stream",
     "text": [
      "\n",
      "\u001b[1m[\u001b[0m\u001b[34;49mnotice\u001b[0m\u001b[1;39;49m]\u001b[0m\u001b[39;49m A new release of pip is available: \u001b[0m\u001b[31;49m24.2\u001b[0m\u001b[39;49m -> \u001b[0m\u001b[32;49m25.1.1\u001b[0m\n",
      "\u001b[1m[\u001b[0m\u001b[34;49mnotice\u001b[0m\u001b[1;39;49m]\u001b[0m\u001b[39;49m To update, run: \u001b[0m\u001b[32;49mpip install --upgrade pip\u001b[0m\n"
     ]
    }
   ],
   "source": [
    "!pip install -q langchain langchain-openai langchain-ollama langchain-community langchain-chroma langchain-text-splitters tiktoken huggingface_hub sentence_transformers pypdf grandalf"
   ]
  },
  {
   "cell_type": "markdown",
   "metadata": {},
   "source": [
    "## OpenAI API Key Setup"
   ]
  },
  {
   "cell_type": "code",
   "execution_count": null,
   "metadata": {},
   "outputs": [],
   "source": [
    "import os"
   ]
  },
  {
   "cell_type": "code",
   "execution_count": 2,
   "metadata": {},
   "outputs": [],
   "source": [
    "import os\n",
    "from langchain.schema import Document\n",
    "from langchain_text_splitters import RecursiveCharacterTextSplitter\n",
    "from langchain.vectorstores import Chroma\n",
    "from langchain_openai import OpenAIEmbeddings\n",
    "\n",
    "from langchain_openai import OpenAIEmbeddings, ChatOpenAI\n",
    "from langchain_core.runnables import RunnablePassthrough\n",
    "from langchain_core.output_parsers import StrOutputParser\n",
    "\n",
    "from langchain_google_genai import GoogleGenerativeAIEmbeddings"
   ]
  },
  {
   "cell_type": "code",
   "execution_count": 5,
   "metadata": {},
   "outputs": [
    {
     "name": "stdout",
     "output_type": "stream",
     "text": [
      "총 Document 개수: 28\n"
     ]
    },
    {
     "name": "stderr",
     "output_type": "stream",
     "text": [
      "Failed to send telemetry event ClientStartEvent: capture() takes 1 positional argument but 3 were given\n",
      "Failed to send telemetry event ClientCreateCollectionEvent: capture() takes 1 positional argument but 3 were given\n"
     ]
    }
   ],
   "source": [
    "# 데이터 파일이 위치한 폴더 경로\n",
    "data_folder = 'data/codebook'\n",
    "\n",
    "# 001.md부터 028.md 파일까지 읽어서 처리할 문서 리스트\n",
    "docs = []\n",
    "text_splitter = RecursiveCharacterTextSplitter(chunk_size=1000, chunk_overlap=100)\n",
    "\n",
    "for i in range(1, 29):\n",
    "    file_name = f\"{i:03d}.md\"\n",
    "    file_path = os.path.join(data_folder, file_name)\n",
    "    if not os.path.exists(file_path):\n",
    "        print(f\"파일이 존재하지 않습니다: {file_path}\")\n",
    "        continue\n",
    "\n",
    "    with open(file_path, 'r', encoding='utf-8') as file:\n",
    "        content = file.read()\n",
    "\n",
    "    # 텍스트 청크로 분할 후 Document 객체로 변환\n",
    "    #text_chunks = text_splitter.split_text(content)\n",
    "    file_docs = [Document(page_content=content)]\n",
    "    docs.extend(file_docs)\n",
    "\n",
    "print(f\"총 Document 개수: {len(docs)}\")\n",
    "\n",
    "# ChromaDB에 청크들을 벡터 임베딩으로 저장(OpenAI 임베딩 모델 활용)\n",
    "\n",
    "embeddings = GoogleGenerativeAIEmbeddings(\n",
    "    model=\"models/embedding-001\",          # 최신 텍스트 전용 임베딩 모델\n",
    "    task_type=\"RETRIEVAL_DOCUMENT\"         # 필요 시 TASK 타입 지정\n",
    ")\n",
    "\n",
    "vectorstore = Chroma.from_documents(docs, OpenAIEmbeddings(model='text-embedding-3-small'), persist_directory=\"./chroma_db20\")\n",
    "retriever = vectorstore.as_retriever()"
   ]
  },
  {
   "cell_type": "code",
   "execution_count": 9,
   "metadata": {},
   "outputs": [
    {
     "name": "stderr",
     "output_type": "stream",
     "text": [
      "/var/folders/00/b48zl4b12fv_c52sqg6957lw0000gn/T/ipykernel_31903/1213623711.py:51: LangChainDeprecationWarning: The class `Chroma` was deprecated in LangChain 0.2.9 and will be removed in 1.0. An updated version of the class exists in the :class:`~langchain-chroma package and should be used instead. To use it run `pip install -U :class:`~langchain-chroma` and import as `from :class:`~langchain_chroma import Chroma``.\n",
      "  vectorstore = Chroma(\n",
      "Failed to send telemetry event ClientStartEvent: capture() takes 1 positional argument but 3 were given\n",
      "Failed to send telemetry event ClientCreateCollectionEvent: capture() takes 1 positional argument but 3 were given\n"
     ]
    },
    {
     "name": "stdout",
     "output_type": "stream",
     "text": [
      "총 Document 개수: 369\n"
     ]
    }
   ],
   "source": [
    "import os\n",
    "from PyPDF2 import PdfReader                       # 추가\n",
    "from langchain.text_splitter import RecursiveCharacterTextSplitter\n",
    "from langchain.docstore.document import Document\n",
    "from langchain.vectorstores import Chroma\n",
    "from langchain.embeddings import OpenAIEmbeddings\n",
    "\n",
    "# 데이터 파일이 위치한 폴더 경로\n",
    "data_folder = 'data/codebook'\n",
    "\n",
    "docs = []\n",
    "\n",
    "for i in range(1, 3):\n",
    "    file_name = f\"{i:03d}.pdf\"                     # md → pdf\n",
    "    file_path = os.path.join(data_folder, file_name)\n",
    "    if not os.path.exists(file_path):\n",
    "        print(f\"파일이 존재하지 않습니다: {file_path}\")\n",
    "        continue\n",
    "\n",
    "    # PDF 텍스트 추출\n",
    "    reader = PdfReader(file_path)\n",
    "    content = \"\"\n",
    "    for page in reader.pages:                      # 페이지별 텍스트 결합\n",
    "        text = page.extract_text()\n",
    "        if text:\n",
    "            content += text + \"\\n\"\n",
    "\n",
    "    # 텍스트를 청크로 분할\n",
    "    text_splitter = RecursiveCharacterTextSplitter(\n",
    "        chunk_size=1000,\n",
    "        chunk_overlap=100\n",
    "    )\n",
    "    text_chunks = text_splitter.split_text(content)\n",
    "\n",
    "    # Document 객체 생성 + 메타데이터(source)\n",
    "    file_docs = [Document(page_content=chunk, metadata={\"source\": file_name})\n",
    "                 for chunk in text_chunks]\n",
    "\n",
    "    docs.extend(file_docs)\n",
    "\n",
    "print(f\"총 Document 개수: {len(docs)}\")\n",
    "\n",
    "\n",
    "def batched(seq, size):\n",
    "    for i in range(0, len(seq), size):\n",
    "        yield seq[i:i + size]\n",
    "\n",
    "embeddings = OpenAIEmbeddings(model=\"text-embedding-3-small\")\n",
    "\n",
    "# 빈 VectorStore 먼저 생성\n",
    "vectorstore = Chroma(\n",
    "    persist_directory=\"./chroma_db30\",\n",
    "    embedding_function=embeddings\n",
    ")\n",
    "\n",
    "# 100개(또는 토큰 기준 안전한 크기)씩 나눠서 추가\n",
    "for batch in batched(docs, 100):\n",
    "    vectorstore.add_documents(batch)\n",
    "\n",
    "\n",
    "retriever = vectorstore.as_retriever()\n"
   ]
  },
  {
   "cell_type": "code",
   "execution_count": 11,
   "metadata": {},
   "outputs": [
    {
     "data": {
      "text/plain": [
       "[Document(metadata={'source': '001.pdf'}, page_content='들이 실제로 탐구하는 과정을 평가할 필요가 있다. \\n(나) 사회문제 탐구 과목은 사회문제에 지속적으로 관심을 가지고 합리적인 해결 방안을 모색하\\n여 참여할 수 있는 시민을 기르는 데 목적이 있으므로 가치 및 태도 함양 여부도 평가할 \\n필요가 있다.\\n(다) 비판적 사고력 , 문제 해결 능력 및 의사 결정 능력, 의사소통 및 협업 능력, 정보 수집 및 \\n분석 능력 등을 평가하기 위해 다양한 사회문제의 실태 조사, 원인 파악, 문제 해결을 위한 \\n정보 수집과 분석, 적절한 해결 방안의 탐구 및 토의 활동 전반을 보고서법이나 프로젝트 법, \\n토의법 등을 활용하여 평가할 필요가 있다. \\n사회과 교육과정\\n284(라) 충분한 시간을 가지고 학습 과정을 중시하는 평가가 이루어지도록 한다. 평가 과정에서 학생\\n들이 학습 목표가 무엇이고 , 현재 자신의 상태는 어느 정도이며 , 어떻게 개선해 나아가야 \\n하는지에 대해 지속해서 생각하게 함으로써 학생의 성장을 돕고 수준별 학습 지도에 활용한다 . \\n(마) 느린 학습자 , 최소 성취수준 미도달이 예상되는 학생 등 다양한 학습자를 고려하여 학생의 \\n수준에 따른 평가를 실시하기 위하여 디지털 인프라 및 원격수업 평가 도구 등을 활용하여 \\n온오프라인을 연계한 평가를 실시할 수 있다. \\n(2) 평가 방법\\n(가) 보고서법이나 프로젝트법 등을 활용할 때에는 내용의 타당성과 충실성을 중심으로 평가한다 . \\n이때 사회문제의 원인 파악이 제대로 이루어졌는지 , 해결 방안이 문제의 원인과 연계되어 \\n있는지 , 적절하고 실현 가능한지에 초점을 둔다.\\n(나) 수업 중 보고서 작성 활동을 진행하면서 서론, 선행 연구 검토, 탐구 계획 설계, 연구 결과 \\n분석, 결론 등을 작성하게 하고 구체적인 체크리스트를 통해 학생들의 탐구 활동 과정을 \\n단계별로 평가할 수 있다. 또는 탐구 주제를 선정한 이후 탐구 계획서 작성, 자료 수집을 한 \\n이후에 중간보고서 작성 및 발표 과정을 통해 진행 과정을 점검할 수 있다.'),\n",
       " Document(metadata={'source': '001.pdf'}, page_content='(2) 평가 방법\\n(가) 선택형, 단답형, 서술형, 논술형이 포함된 지필평가 및 수행평가 등 다양한 평가 방법을 균형 \\n있게 실시한다 . 평가 요소는 통합사회의 성취기준에 기반하여 추출한다 .\\n(나) 지필평가 문항을 제작할 때는 단순한 지식을 묻는 차원을 넘어서서 통합사회 교과 역량을 \\n평가할 수 있도록 한다. 이를 위해 학생들이 다양한 문제를 인식하고 그 원인과 현상을 통\\n합적으로 파악하고 있는지를 평가한다 . \\n(다) 학습자 활동 중심 수업을 주로 전개하는 통합사회 수업 상황을 고려하여 학습자 활동의 과\\n정과 결과를 활용하여 지필평가 문항을 제작할 수 있다. \\n(라) 통합사회는 학습자 참여와 활동 중심 수업을 중시하기 때문에 , 학습자 참여와 활동 과정을 \\n평가할 수 있도록 면접, 체크리스트 , 토의⋅토론, 논술, 발표, 답사 보고서 , 시뮬레이션 , 포\\n트폴리오 , 프로젝트 결과물 등을 수행평가에 활용할 수 있다.\\n(마) 소집단 활동에서는 교사의 관찰 평가와 더불어 학습자 간 동료 평가를 실시하고 , 자기 평\\n가를 통해 자신의 학습 활동을 성찰할 수 있도록 한다. 동료 평가를 위해 체크리스트를 활\\n용할 수 있으며 , 자기 평가를 위해 자기 성찰 일지를 작성하도록 할 수 있다.\\n(바) 자료를 수집하기 위해 문헌 연구, 설문 조사, 면담, 답사 등을 할 때는 계획서와 보고서를 \\n작성하도록 하여 이를 평가에 반영할 수 있다. 계획서와 보고서를 평가할 때는 시간적 , 공\\n간적, 사회적 , 윤리적 관점을 바탕으로 자신, 사회, 세계의 다양한 현상을 통합적으로 탐구\\n하였는지를 포함할 수 있다.\\n사회과 교육과정\\n126(사) 인지적 영역뿐만 아니라 학습자의 협력, 소통, 책임감, 준법성, 사회성, 자아 개념 등과 같은 \\n정의적 영역을 함께 평가할 수 있다. 정의적 영역을 평가할 때는 학생들이 평가에 참여하 는 \\n과정 그 자체가 긍정적이고 가치 있는 경험이 될 수 있도록 평가를 설계한다 .'),\n",
       " Document(metadata={'source': '001.pdf'}, page_content='나. 평가\\n(1) 평가의 방향\\n(가) 평가는 교수⋅학습 목표, 내용, 방법과 일관성을 유지하며 실시될 수 있도록 한다.\\n(나) 학습자의 지식⋅이해, 과정⋅기능, 가치⋅태도를 종합적으로 고려한 평가 계획을 수립하고 \\n운영한다 .\\n(다) 교수⋅학습 활동을 개선하고 교사와 학습자의 성장을 지원할 수 있는 평가 계획을 수립하고  \\n운영한다 .\\n(라) 디지털 기반 수업 상황을 고려하고 학습자가 다양한 디지털 도구를 활용할 수 있도록 평가를  \\n계획하고 실시한다 .\\n(마) 장애, 이주 배경 등 학습자의 개별적인 상황을 고려하여 평가를 진행한다 . 평가 응답 시간 \\n확보, 이중 언어 활용 등 다양한 방식을 고려하여 학습자의 성취와 배움에 주목하는 평가를 \\n시도할 수 있다.\\n(바) 학습자가 평가 계획과 운영에 주도적으로 참여함으로써 , 배움의 과정을 확인하고 또 다른 \\n배움의 목표를 설정하는 데에 도움을 주도록 한다.\\n(2) 평가 방법\\n(가) 평가 문항을 지나치게 지엽적인 역사적 사실을 중심으로 구성할 경우 평가 본래의 취지와 \\n목적을 실현하기 어려울 수 있다는 점을 고려한다 .\\n사회과 교육과정\\n272(나) 서⋅논술형 및 수행평가는 명료한 기준을 바탕으로 한 채점 기준표를 구성해 활용할 수 있\\n으며 평가 요소에 따라 점수를 부여한다 .\\n(다) 학습자 주도의 평가는 학습자가 교수⋅학습의 계획, 실행, 결과를 성찰하는 활동을 통해 \\n가능하며 자기 평가와 동료 평가 등을 활용할 수 있다.\\n(라) 평가는 또 다른 학습을 이어주는 역할을 하며, 개별 피드백뿐 아니라 동료 학습자 간에 평가 \\n결과를 공유하면서 서로의 성장에 기여할 수 있도록 한다.\\n선택 중심 교육과정 – 융합 선택 과목 \\n-\\n273\\n사회문제 탐구\\n1. 성격 및 목표\\n가. 성격\\n사회문제 탐구 과목은 현대 사회에서 발생하는 여러 사회문제를 탐구하고 해결 방안을 모색할 \\n수 있는 능력을 함양하기 위해 개설된 일반사회 영역의 융합 선택 과목이다 .'),\n",
       " Document(metadata={'source': '001.pdf'}, page_content='할 수 있다.\\n사회과 교육과정\\n150(2) 평가 방법\\n(가) 교수⋅학습의 주안점을 고려하여 평가기준을 설정한다 .\\n(나) 지필평가와 수행평가를 적절한 비중으로 실시한다 . 이때 단순한 사실이나 지식의 암기 여\\n부를 확인하는 데 치중하지 않도록 유의한다 .\\n(다) 선다형 평가는 지식⋅이해, 과정⋅기능, 가치⋅태도 등 다양한 측면의 성취수준을 파악할 \\n수 있도록 구성한다 .\\n(라) 서술형 및 수행평가의 채점은 평가기준에 따라 다양한 방법을 활용하여 실시할 수 있다. \\n명료한 채점 기준을 바탕으로 분석적으로 채점을 실시하거나 , 학습 결과물에 대한 종합적인  \\n판단을 바탕으로 총괄적인 채점을 할 수 있다. \\n(마) 학습자는 자기 평가를 통해 자신의 학습 과정을 성찰함으로써 학습 방법 및 성취수준을 개선\\n할 수 있다. 더불어 동료 평가는 교사 평가와 더불어 학습자의 성장을 조력할 수 있다.\\n(바) 디지털 기반 수업 상황을 고려하여 다양한 디지털 도구를 평가에 활용할 수 있다. 이때 \\n학습자 간 디지털 격차를 고려한다 .\\n선택 중심 교육과정 – 일반 선택 과목 \\n-\\n151\\n사회와 문화\\n1. 성격 및 목표\\n가. 성격\\n사회와 문화 과목은 개인이 다양한 관점과 문화를 가진 타인들과 지속적으로 상호 작용하며 살아\\n가는 사회적 존재이며 , 사회 구조의 영향을 받는 존재임과 동시에 사회를 변화시키는 주체라는 사실\\n을 인식하고 민주시민으로서 사회에 참여하는 데 필요한 역량을 함양하기 위해 개설된 과목이다 .\\n사회와 문화 과목은 학생들이 사회현상에 관심을 갖고 능동적으로 참여할 수 있도록 다양한 사\\n회현상에 대한 사회학과 문화 인류학의 기본 개념과 이론 및 관점을 제시한다 . 그리고 사회과학적 \\n탐구 활동을 통해 사회현상과 관련된 다양한 자료를 수집하고 , 이를 비판적으로 분석하여 합리적으\\n로 의사 결정하는 과정을 경험하게 하며, 협력적으로 의사소통하는 과정을 통해 다양한 관점과 문\\n화를 존중하는 태도를 함양하도록 내용을 구성하였다 .')]"
      ]
     },
     "execution_count": 11,
     "metadata": {},
     "output_type": "execute_result"
    }
   ],
   "source": [
    "retriever.get_relevant_documents(\"4학년 사회 과목의 평가 방법은?\")"
   ]
  },
  {
   "cell_type": "code",
   "execution_count": null,
   "metadata": {},
   "outputs": [],
   "source": [
    "#GPT 3.5 모델 선언\n",
    "from langchain import hub\n",
    "llm = ChatOpenAI(model=\"gpt-4o-mini\")\n",
    "\n",
    "#Langchain Hub에서 RAG 프롬프트 호출\n",
    "prompt = hub.pull(\"rlm/rag-prompt\")\n",
    "\n",
    "#Retriever로 검색한 유사 문서의 내용을 하나의 string으로 결합\n",
    "def format_docs(docs):\n",
    "    return \"\\n\\n\".join(doc.page_content for doc in docs)"
   ]
  },
  {
   "cell_type": "code",
   "execution_count": null,
   "metadata": {},
   "outputs": [],
   "source": [
    "rag_chain = (\n",
    "    {\"context\": retriever, \"question\": RunnablePassthrough()}\n",
    "    | prompt\n",
    "    | llm\n",
    "    | StrOutputParser()\n",
    ")"
   ]
  },
  {
   "cell_type": "code",
   "execution_count": null,
   "metadata": {},
   "outputs": [],
   "source": [
    "answer = rag_chain.invoke(\"한글 프로그래밍 언어에서 조건문, 반복문, 변수 문법은 어떻게 사용해야 하는지 500자 이상의 자세한 예시를 들어 설명해? 출처 Document의 메타데이터 중 'grammar' 값을 출처명으로 설명 결과와 출력해줘.\")\n",
    "print(answer)"
   ]
  },
  {
   "cell_type": "code",
   "execution_count": null,
   "metadata": {},
   "outputs": [],
   "source": [
    "result = retriever.get_relevant_documents(\"반복문과 조건문과 변수\")\n",
    "for i in range(len(result)):\n",
    "    print(f\"{i+1}번째 유사 청크\")\n",
    "    print(result[i].page_content[:200])\n",
    "    print(\"-\"*100)"
   ]
  },
  {
   "cell_type": "code",
   "execution_count": null,
   "metadata": {},
   "outputs": [],
   "source": [
    "vectorstore.similarity_search_with_score(\"반복문과 조건문과 변수\")"
   ]
  },
  {
   "cell_type": "code",
   "execution_count": null,
   "metadata": {},
   "outputs": [],
   "source": []
  }
 ],
 "metadata": {
  "kernelspec": {
   "display_name": "horang-310",
   "language": "python",
   "name": "python3"
  },
  "language_info": {
   "codemirror_mode": {
    "name": "ipython",
    "version": 3
   },
   "file_extension": ".py",
   "mimetype": "text/x-python",
   "name": "python",
   "nbconvert_exporter": "python",
   "pygments_lexer": "ipython3",
   "version": "3.10.13"
  }
 },
 "nbformat": 4,
 "nbformat_minor": 2
}
